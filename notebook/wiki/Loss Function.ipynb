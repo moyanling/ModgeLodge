{
 "cells": [
  {
   "cell_type": "markdown",
   "metadata": {},
   "source": [
    "# Loss Function"
   ]
  },
  {
   "cell_type": "markdown",
   "metadata": {},
   "source": [
    "Loss function is a **criteria** defined as a function to describe the difference between your prediction and the real result."
   ]
  },
  {
   "cell_type": "markdown",
   "metadata": {},
   "source": [
    "Suppose the below table is the relationship between variable X, Predited Y and result Y\n",
    "\n",
    "X | Predicted Y | Actual Y | Difference \n",
    "- | ----------- | -------- | ----------\n",
    "1 | 13       | 13     | 0\n",
    "2 | 16       | 14     | 2\n",
    "3 | 19       | 20     | -1\n",
    "4 | 22       | 21     | 1\n",
    "5 | 25       | 25     | 0\n",
    "6 | 28       | 30     | -2"
   ]
  },
  {
   "cell_type": "markdown",
   "metadata": {},
   "source": [
    "In order to describe the difference between you prediction and the actual result, a simple loss function could be `math.abs(PredictedY - ActualY)`, whoes **sum** for all the **x** is 6. Obviously, a smaller sum means a more accurate prediction."
   ]
  },
  {
   "cell_type": "markdown",
   "metadata": {},
   "source": [
    "Some common Loss Function are:\n",
    "1. 0 - 1 loss function: `if (PredictedY == ActualY) 1 else 0`\n",
    "2. absolute loss function: `math.abs(PredictedY - ActualY)`\n",
    "3. quadratic loss function: `math.pow(PredictedY - ActualY, 2)`"
   ]
  }
 ],
 "metadata": {
  "kernelspec": {
   "display_name": "Scala 2.12.7",
   "language": "scala",
   "name": "scala"
  },
  "language_info": {
   "codemirror_mode": "text/x-scala",
   "file_extension": ".scala",
   "mimetype": "text/x-scala",
   "name": "scala",
   "nbconvert_exporter": "script",
   "version": "2.12.7"
  }
 },
 "nbformat": 4,
 "nbformat_minor": 2
}
