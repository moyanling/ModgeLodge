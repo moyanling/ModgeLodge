{
 "cells": [
  {
   "cell_type": "markdown",
   "metadata": {},
   "source": [
    "## MNIST project based on DeepLearning4J "
   ]
  },
  {
   "cell_type": "code",
   "execution_count": 1,
   "metadata": {},
   "outputs": [
    {
     "name": "stderr",
     "output_type": "stream",
     "text": [
      "Downloading https://repo1.maven.org/maven2/org/bytedeco/javacpp-presets/hdf5-platform/1.10.3-1.4.3/hdf5-platform-1.10.3-1.4.3-sources.jar\n",
      "Downloading https://repo1.maven.org/maven2/org/bytedeco/javacpp-presets/mkl-platform/2019.0-1.4.3/mkl-platform-2019.0-1.4.3-sources.jar.sha1\n",
      "Downloading https://repo1.maven.org/maven2/org/bytedeco/javacpp-presets/mkl-dnn-platform/0.16-1.4.3/mkl-dnn-platform-0.16-1.4.3-sources.jar\n",
      "Downloading https://repo1.maven.org/maven2/org/bytedeco/javacpp-presets/mkl-platform/2019.0-1.4.3/mkl-platform-2019.0-1.4.3-sources.jar\n",
      "Downloading https://repo1.maven.org/maven2/org/bytedeco/javacpp-presets/hdf5-platform/1.10.3-1.4.3/hdf5-platform-1.10.3-1.4.3-sources.jar.sha1\n",
      "Downloading https://repo1.maven.org/maven2/org/nd4j/nd4j-backend-impls/1.0.0-beta3/nd4j-backend-impls-1.0.0-beta3-sources.jar\n",
      "Downloading https://repo1.maven.org/maven2/org/bytedeco/javacpp-presets/mkl-dnn-platform/0.16-1.4.3/mkl-dnn-platform-0.16-1.4.3-sources.jar.sha1\n",
      "Downloading https://repo1.maven.org/maven2/org/bytedeco/javacpp-presets/leptonica-platform/1.76.0-1.4.3/leptonica-platform-1.76.0-1.4.3-sources.jar\n",
      "Downloading https://repo1.maven.org/maven2/org/nd4j/nd4j-backend-impls/1.0.0-beta3/nd4j-backend-impls-1.0.0-beta3-sources.jar.sha1\n",
      "Downloading https://repo1.maven.org/maven2/org/bytedeco/javacpp-presets/leptonica-platform/1.76.0-1.4.3/leptonica-platform-1.76.0-1.4.3-sources.jar.sha1\n",
      "Downloading https://repo1.maven.org/maven2/org/lucee/oswego-concurrent/1.3.4/oswego-concurrent-1.3.4-sources.jar.sha1\n",
      "Downloading https://repo1.maven.org/maven2/org/bytedeco/javacpp-presets/opencv-platform/3.4.3-1.4.3/opencv-platform-3.4.3-1.4.3-sources.jar\n",
      "Downloading https://repo1.maven.org/maven2/org/bytedeco/javacpp-presets/opencv-platform/3.4.3-1.4.3/opencv-platform-3.4.3-1.4.3-sources.jar.sha1\n",
      "Downloading https://repo1.maven.org/maven2/org/bytedeco/javacpp-presets/openblas-platform/0.3.3-1.4.3/openblas-platform-0.3.3-1.4.3-sources.jar.sha1\n",
      "Downloading https://repo1.maven.org/maven2/org/lucee/oswego-concurrent/1.3.4/oswego-concurrent-1.3.4-sources.jar\n",
      "Downloading https://repo1.maven.org/maven2/org/bytedeco/javacpp-presets/openblas-platform/0.3.3-1.4.3/openblas-platform-0.3.3-1.4.3-sources.jar\n"
     ]
    },
    {
     "data": {
      "text/plain": [
       "\u001b[32mimport \u001b[39m\u001b[36m$ivy.$                                  \u001b[39m"
      ]
     },
     "execution_count": 1,
     "metadata": {},
     "output_type": "execute_result"
    }
   ],
   "source": [
    "import $ivy.`org.mo39.fmbh::mnist:0.1-SNAPSHOT`"
   ]
  },
  {
   "cell_type": "code",
   "execution_count": 2,
   "metadata": {},
   "outputs": [
    {
     "data": {
      "text/plain": [
       "\u001b[32mimport \u001b[39m\u001b[36morg.mo39.fmbh.mnist.deeplearning4j._\u001b[39m"
      ]
     },
     "execution_count": 2,
     "metadata": {},
     "output_type": "execute_result"
    }
   ],
   "source": [
    "import org.mo39.fmbh.mnist.deeplearning4j._"
   ]
  },
  {
   "cell_type": "code",
   "execution_count": 3,
   "metadata": {},
   "outputs": [
    {
     "data": {
      "text/plain": [
       "\u001b[32mimport \u001b[39m\u001b[36mMnist._\u001b[39m"
      ]
     },
     "execution_count": 3,
     "metadata": {},
     "output_type": "execute_result"
    }
   ],
   "source": [
    "import Mnist._"
   ]
  },
  {
   "cell_type": "code",
   "execution_count": 4,
   "metadata": {},
   "outputs": [
    {
     "ename": "",
     "evalue": "",
     "output_type": "error",
     "traceback": [
      "\u001b[31mjava.lang.NullPointerException\u001b[39m\n  org.mo39.fmbh.common.util.Reflect$.getCaseAccessorMetaData(\u001b[32mReflect.scala\u001b[39m:\u001b[32m14\u001b[39m)\n  org.mo39.fmbh.common.ml.Configurable.parseConfig(\u001b[32mConfiguration.scala\u001b[39m:\u001b[32m15\u001b[39m)\n  org.mo39.fmbh.common.ml.Configurable.parseConfig$(\u001b[32mConfiguration.scala\u001b[39m:\u001b[32m14\u001b[39m)\n  org.mo39.fmbh.mnist.deeplearning4j.Mnist$.parseConfig(\u001b[32mMnist.scala\u001b[39m:\u001b[32m62\u001b[39m)\n  org.mo39.fmbh.common.ml.Configurable.inspect(\u001b[32mConfiguration.scala\u001b[39m:\u001b[32m12\u001b[39m)\n  org.mo39.fmbh.common.ml.Configurable.inspect$(\u001b[32mConfiguration.scala\u001b[39m:\u001b[32m12\u001b[39m)\n  org.mo39.fmbh.mnist.deeplearning4j.Mnist$.inspect(\u001b[32mMnist.scala\u001b[39m:\u001b[32m62\u001b[39m)\n  ammonite.$sess.cmd3$Helper.<init>(\u001b[32mcmd3.sc\u001b[39m:\u001b[32m1\u001b[39m)\n  ammonite.$sess.cmd3$.<init>(\u001b[32mcmd3.sc\u001b[39m:\u001b[32m7\u001b[39m)\n  ammonite.$sess.cmd3$.<clinit>(\u001b[32mcmd3.sc\u001b[39m:\u001b[32m-1\u001b[39m)"
     ]
    }
   ],
   "source": [
    "inspect"
   ]
  },
  {
   "cell_type": "code",
   "execution_count": 4,
   "metadata": {},
   "outputs": [
    {
     "name": "stderr",
     "output_type": "stream",
     "text": [
      "cmd4.sc:1: not found: type MnistDataSetIterator\n",
      "val res4 = new MnistDataSetIterator(batchSize, trainSetSize, false, true, true, seed)\n",
      "               ^cmd4.sc:1: not found: value batchSize\n",
      "val res4 = new MnistDataSetIterator(batchSize, trainSetSize, false, true, true, seed)\n",
      "                                    ^cmd4.sc:1: not found: value trainSetSize\n",
      "val res4 = new MnistDataSetIterator(batchSize, trainSetSize, false, true, true, seed)\n",
      "                                               ^cmd4.sc:1: not found: value seed\n",
      "val res4 = new MnistDataSetIterator(batchSize, trainSetSize, false, true, true, seed)\n",
      "                                                                                ^Compilation Failed"
     ]
    },
    {
     "ename": "",
     "evalue": "",
     "output_type": "error",
     "traceback": [
      "Compilation Failed"
     ]
    }
   ],
   "source": [
    "new MnistDataSetIterator(batchSize, trainSetSize, false, true, true, seed)"
   ]
  }
 ],
 "metadata": {
  "kernelspec": {
   "display_name": "Scala 2.12.7",
   "language": "scala",
   "name": "scala"
  },
  "language_info": {
   "codemirror_mode": "text/x-scala",
   "file_extension": ".scala",
   "mimetype": "text/x-scala",
   "name": "scala",
   "nbconvert_exporter": "script",
   "version": "2.12.7"
  }
 },
 "nbformat": 4,
 "nbformat_minor": 2
}
