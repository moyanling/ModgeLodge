{
 "cells": [
  {
   "cell_type": "markdown",
   "metadata": {},
   "source": [
    "## MNIST project based on DeepLearning4J "
   ]
  },
  {
   "cell_type": "markdown",
   "metadata": {},
   "source": [
    "### Getting Started\n",
    "1. Open `sbt` console\n",
    "2. Select project `Mnist` by `project Mnist`\n",
    "3. Run task `publishLocal` to publish the project JAR to local Ivy Repo\n",
    "4. Then you can import the project and have fun\n",
    "\n",
    "(In case you have a change for the project, publish again and restart the Kernel)"
   ]
  },
  {
   "cell_type": "code",
   "execution_count": 1,
   "metadata": {},
   "outputs": [
    {
     "name": "stderr",
     "output_type": "stream",
     "text": [
      "Downloading https://repo1.maven.org/maven2/org/bytedeco/javacpp-presets/mkl-dnn-platform/0.16-1.4.3/mkl-dnn-platform-0.16-1.4.3-sources.jar.sha1\n",
      "Downloading https://repo1.maven.org/maven2/org/nd4j/nd4j-backend-impls/1.0.0-beta3/nd4j-backend-impls-1.0.0-beta3-sources.jar.sha1\n",
      "Downloading https://repo1.maven.org/maven2/org/nd4j/nd4j-backend-impls/1.0.0-beta3/nd4j-backend-impls-1.0.0-beta3-sources.jar\n",
      "Downloading https://repo1.maven.org/maven2/org/bytedeco/javacpp-presets/mkl-platform/2019.0-1.4.3/mkl-platform-2019.0-1.4.3-sources.jar\n",
      "Downloading https://repo1.maven.org/maven2/org/bytedeco/javacpp-presets/mkl-dnn-platform/0.16-1.4.3/mkl-dnn-platform-0.16-1.4.3-sources.jar\n",
      "Downloading https://repo1.maven.org/maven2/org/bytedeco/javacpp-presets/hdf5-platform/1.10.3-1.4.3/hdf5-platform-1.10.3-1.4.3-sources.jar\n",
      "Downloading https://repo1.maven.org/maven2/org/bytedeco/javacpp-presets/hdf5-platform/1.10.3-1.4.3/hdf5-platform-1.10.3-1.4.3-sources.jar.sha1\n",
      "Downloading https://repo1.maven.org/maven2/org/bytedeco/javacpp-presets/leptonica-platform/1.76.0-1.4.3/leptonica-platform-1.76.0-1.4.3-sources.jar\n",
      "Downloading https://repo1.maven.org/maven2/org/bytedeco/javacpp-presets/mkl-platform/2019.0-1.4.3/mkl-platform-2019.0-1.4.3-sources.jar.sha1\n",
      "Downloading https://repo1.maven.org/maven2/org/bytedeco/javacpp-presets/leptonica-platform/1.76.0-1.4.3/leptonica-platform-1.76.0-1.4.3-sources.jar.sha1\n",
      "Downloading https://repo1.maven.org/maven2/org/lucee/oswego-concurrent/1.3.4/oswego-concurrent-1.3.4-sources.jar\n",
      "Downloading https://repo1.maven.org/maven2/org/lucee/oswego-concurrent/1.3.4/oswego-concurrent-1.3.4-sources.jar.sha1\n",
      "Downloading https://repo1.maven.org/maven2/org/bytedeco/javacpp-presets/opencv-platform/3.4.3-1.4.3/opencv-platform-3.4.3-1.4.3-sources.jar\n",
      "Downloading https://repo1.maven.org/maven2/org/bytedeco/javacpp-presets/opencv-platform/3.4.3-1.4.3/opencv-platform-3.4.3-1.4.3-sources.jar.sha1\n",
      "Downloading https://repo1.maven.org/maven2/org/bytedeco/javacpp-presets/openblas-platform/0.3.3-1.4.3/openblas-platform-0.3.3-1.4.3-sources.jar\n",
      "Downloading https://repo1.maven.org/maven2/org/bytedeco/javacpp-presets/openblas-platform/0.3.3-1.4.3/openblas-platform-0.3.3-1.4.3-sources.jar.sha1\n"
     ]
    },
    {
     "data": {
      "text/plain": [
       "\u001b[32mimport \u001b[39m\u001b[36m$ivy.$                                   // This might take some time for the first run\u001b[39m"
      ]
     },
     "execution_count": 1,
     "metadata": {},
     "output_type": "execute_result"
    }
   ],
   "source": [
    "import $ivy.`org.mo39.fmbh::mnist:0.1-SNAPSHOT` // This might take some time for the first run"
   ]
  },
  {
   "cell_type": "code",
   "execution_count": 2,
   "metadata": {},
   "outputs": [
    {
     "data": {
      "text/plain": [
       "\u001b[32mimport \u001b[39m\u001b[36morg.mo39.fmbh.mnist.deeplearning4j._\u001b[39m"
      ]
     },
     "execution_count": 2,
     "metadata": {},
     "output_type": "execute_result"
    }
   ],
   "source": [
    "import org.mo39.fmbh.mnist.deeplearning4j._"
   ]
  },
  {
   "cell_type": "code",
   "execution_count": 3,
   "metadata": {},
   "outputs": [
    {
     "data": {
      "text/plain": [
       "\u001b[36mmnist\u001b[39m: \u001b[32mMnist\u001b[39m = \u001b[33mMnist\u001b[39m(\u001b[32m28\u001b[39m, \u001b[32m28\u001b[39m, \u001b[32m42\u001b[39m, \u001b[32m784\u001b[39m, \u001b[32m512\u001b[39m, \u001b[32m10\u001b[39m, \u001b[32m0.01\u001b[39m, \u001b[32m128\u001b[39m, \u001b[32m10\u001b[39m, \u001b[32m60000\u001b[39m, \u001b[32m10000\u001b[39m)\n",
       "\u001b[36m?\u001b[39m: \u001b[32mMnist\u001b[39m.type = org.mo39.fmbh.mnist.deeplearning4j.Mnist$@6109db7b"
      ]
     },
     "execution_count": 3,
     "metadata": {},
     "output_type": "execute_result"
    }
   ],
   "source": [
    "val mnist = Mnist()\n",
    "val ? = Mnist"
   ]
  },
  {
   "cell_type": "code",
   "execution_count": 4,
   "metadata": {},
   "outputs": [
    {
     "data": {
      "text/html": [
       "<table style=\"width:100%;table-layout:auto;\">\n",
       "      <tr>\n",
       "        <th>name</th><th>value</th><th>description</th>\n",
       "      </tr>\n",
       "      <tr>\n",
       "          <td>width</td><td>28</td><td>The width of a Mnist image</td>\n",
       "        </tr><tr>\n",
       "          <td>height</td><td>28</td><td>The height of a Mnist image</td>\n",
       "        </tr><tr>\n",
       "          <td>seed</td><td>42</td><td>fixed random seed for reproducibility. No need to change.</td>\n",
       "        </tr><tr>\n",
       "          <td>numInputs</td><td>784</td><td>\r\n",
       "        The size of the input for a neutral network layer.\r\n",
       "        For Mnist dataset, each image has 28 * 28 = 784 pixels.\r\n",
       "      </td>\n",
       "        </tr><tr>\n",
       "          <td>numHidden</td><td>512</td><td>The hidden layer in the neutral network</td>\n",
       "        </tr><tr>\n",
       "          <td>numOutputs</td><td>10</td><td>\r\n",
       "        The size of the output for a neutral network layer.\r\n",
       "        For Mnist dataset, 10 outputs represents 0 - 9.\r\n",
       "        For a image of hand written 7, it's presented similar to\r\n",
       "        `Array(0, 0, 0, 0, 0, 0, 0, 1, 0, 0)`\r\n",
       "      </td>\n",
       "        </tr><tr>\n",
       "          <td>learningRate</td><td>0.01</td>\n",
       "        </tr><tr>\n",
       "          <td>batchSize</td><td>128</td><td>\r\n",
       "          The size of one batch.\r\n",
       "          Train the number of batch size once at a time from the dataset.</td>\n",
       "        </tr><tr>\n",
       "          <td>numEpochs</td><td>10</td><td>The number of times to train the full dataset</td>\n",
       "        </tr><tr>\n",
       "          <td>trainSetSize</td><td>60000</td><td>The size of training dataset</td>\n",
       "        </tr><tr>\n",
       "          <td>testSetSize</td><td>10000</td><td>The size of testing dataset</td>\n",
       "        </tr>\n",
       "    </table>"
      ]
     },
     "metadata": {},
     "output_type": "display_data"
    },
    {
     "data": {
      "text/plain": [
       "\u001b[36mres3\u001b[39m: \u001b[32malmond\u001b[39m.\u001b[32mapi\u001b[39m.\u001b[32mhelpers\u001b[39m.\u001b[32mDisplay\u001b[39m = text/html #139de5de-3152-49ff-afbb-ae7a14bfc97f"
      ]
     },
     "execution_count": 4,
     "metadata": {},
     "output_type": "execute_result"
    }
   ],
   "source": [
    "? inspect mnist"
   ]
  },
  {
   "cell_type": "code",
   "execution_count": 5,
   "metadata": {},
   "outputs": [
    {
     "data": {
      "text/plain": [
       "\u001b[32mimport \u001b[39m\u001b[36morg.deeplearning4j.datasets.iterator.impl.MnistDataSetIterator\n",
       "\n",
       "\u001b[39m\n",
       "\u001b[36mtrainSet\u001b[39m: \u001b[32mMnistDataSetIterator\u001b[39m = org.deeplearning4j.datasets.iterator.impl.MnistDataSetIterator@39cca5af\n",
       "\u001b[36mtestSet\u001b[39m: \u001b[32mMnistDataSetIterator\u001b[39m = org.deeplearning4j.datasets.iterator.impl.MnistDataSetIterator@3c9f9d6d"
      ]
     },
     "execution_count": 5,
     "metadata": {},
     "output_type": "execute_result"
    }
   ],
   "source": [
    "import org.deeplearning4j.datasets.iterator.impl.MnistDataSetIterator\n",
    "\n",
    "val trainSet: MnistDataSetIterator = mnist.loadTrainSet()\n",
    "val testSet: MnistDataSetIterator = mnist.loadTestSet()"
   ]
  },
  {
   "cell_type": "markdown",
   "metadata": {},
   "source": [
    "Both sets are iterator, where each is of `batchSize`.\n",
    "\n",
    "For example, `trainSet` has `trainSetSize` number of Mnist image (one dataset). As an `Iterator`, it's organized such that each `next` returns a `batchSize` of Mnist image in the form of a dataset."
   ]
  },
  {
   "cell_type": "code",
   "execution_count": 6,
   "metadata": {},
   "outputs": [
    {
     "name": "stdout",
     "output_type": "stream",
     "text": [
      "01:06:40.352 [scala-interpreter-1] INFO org.nd4j.linalg.factory.Nd4jBackend - Loaded [CpuBackend] backend\n",
      "01:06:41.643 [scala-interpreter-1] INFO org.nd4j.nativeblas.NativeOpsHolder - Number of threads used for NativeOps: 4\n",
      "01:06:41.780 [scala-interpreter-1] INFO org.nd4j.nativeblas.Nd4jBlas - Number of threads used for BLAS: 4\n",
      "01:06:41.789 [scala-interpreter-1] INFO org.nd4j.linalg.api.ops.executioner.DefaultOpExecutioner - Backend used: [CPU]; OS: [Linux]\n",
      "01:06:41.790 [scala-interpreter-1] INFO org.nd4j.linalg.api.ops.executioner.DefaultOpExecutioner - Cores: [4]; Memory: [0.4GB];\n",
      "01:06:41.791 [scala-interpreter-1] INFO org.nd4j.linalg.api.ops.executioner.DefaultOpExecutioner - Blas vendor: [MKL]\n"
     ]
    },
    {
     "data": {
      "text/plain": [
       "\u001b[36mres5_1\u001b[39m: \u001b[32mInt\u001b[39m = \u001b[32m128\u001b[39m\n",
       "\u001b[36mbatch\u001b[39m: \u001b[32morg\u001b[39m.\u001b[32mnd4j\u001b[39m.\u001b[32mlinalg\u001b[39m.\u001b[32mdataset\u001b[39m.\u001b[32mDataSet\u001b[39m = ===========INPUT===================\n",
       "[[         0,         0,         0  ...         0         0,         0], \n",
       " [         0,         0,         0  ...         0         0,         0], \n",
       " [         0,         0,         0  ...         0         0,         0], \n",
       "  ..., \n",
       " [         0,         0,         0  ...         0         0,         0], \n",
       " [         0,         0,         0  ...         0         0,         0], \n",
       " [         0,         0,         0  ...         0         0,         0]]\n",
       "=================OUTPUT==================\n",
       "[[         0,         0,         0  ...         0         0,         0], \n",
       " [    1.0000,         0,         0  ...         0         0,         0], \n",
       " [         0,         0,         0  ...         0         0,         0], \n",
       "  ..., \n",
       " [         0,         0,         0  ...         0    1.0000,         0], \n",
       " [         0,         0,         0  ...         0         0,         0], \n",
       " [         0,         0,         0  ...         0         0,         0]]"
      ]
     },
     "execution_count": 6,
     "metadata": {},
     "output_type": "execute_result"
    }
   ],
   "source": [
    "trainSet.reset() // Reset the Iterator\n",
    "trainSet.batch() // One batch has the number of `batchSize`\n",
    "val batch = trainSet.next()"
   ]
  },
  {
   "cell_type": "markdown",
   "metadata": {},
   "source": [
    "It brings you the **INPUT** and the **Output** of one batch size, `batchSize`. Where **INPUT** is the **FEATURE** and **OUTPUT** is the **LABEL**\n",
    "\n",
    "Both feature and label looks like arrays. Let's get the feature and the label for the **first** Dataset of this batch"
   ]
  },
  {
   "cell_type": "code",
   "execution_count": 7,
   "metadata": {},
   "outputs": [
    {
     "data": {
      "text/plain": [
       "\u001b[36mfeature\u001b[39m: \u001b[32morg\u001b[39m.\u001b[32mnd4j\u001b[39m.\u001b[32mlinalg\u001b[39m.\u001b[32mapi\u001b[39m.\u001b[32mndarray\u001b[39m.\u001b[32mINDArray\u001b[39m = [[         0,         0,         0,         0,         0,         0,         0,         0,         0,         0,         0,         0,         0,         0,         0,         0,         0,         0,         0,         0,         0,         0,         0,         0,         0,         0,         0,         0,         0,         0,         0,         0,         0,         0,         0,         0,         0,         0,         0,         0,         0,         0,         0,         0,         0,         0,         0,         0,         0,         0,         0,         0,         0,         0,         0,         0,         0,         0,         0,         0,         0,         0,         0,         0,         0,         0,         0,         0,         0,         0,         0,         0,         0,         0,         0,         0,         0,         0,         0,         0,         0,         0,         0,         0,         0,         0,         0,         0,         0,         0,         0,         0,         0,         0,         0,         0,         0,         0,         0,         0,         0,         0,         0,         0,         0,         0,         0,         0,         0,         0,         0,         0,         0,         0,         0,         0,         0,         0,         0,         0,         0,         0,         0,         0,         0,         0,         0,         0,         0,         0,         0,         0,         0,         0,         0,         0,         0,         0,         0,         0,         0,         0,         0,         0,         0,         0,         0,         0,         0,         0,         0,         0,    0.0118,    0.0706,    0.0706,    0.0706,    0.4941,    0.5333,    0.6863,    0.1020,    0.6510,    1.0000,    0.9686,    0.4980,         0,         0,         0,         0,         0,         0,         0,         0,         0,         0,         0,         0,    0.1176,    0.1412,    0.3686,    0.6039,    0.6667,    0.9922,    0.9922,    0.9922,    0.9922,    0.9922,    0.8824,    0.6745,    0.9922,    0.9490,    0.7647,    0.2510,         0,         0,         0,         0,         0,         0,         0,         0,         0,         0,         0,    0.1922,    0.9333,    0.9922,    0.9922,    0.9922,    0.9922,    0.9922,    0.9922,    0.9922,    0.9922,    0.9843,    0.3647,    0.3216,    0.3216,    0.2196,    0.1529,         0,         0,         0,         0,         0,         0,         0,         0,         0,         0,         0,         0,    0.0706,    0.8588,    0.9922,    0.9922,    0.9922,    0.9922,    0.9922,    0.7765,    0.7137,    0.9686,    0.9451,         0,         0,         0,         0,         0,         0,         0,         0,         0,         0,         0,         0,         0,         0,         0,         0,         0,         0,    0.3137,    0.6118,    0.4196,    0.9922,    0.9922,    0.8039,    0.0431,         0,    0.1686,    0.6039,         0,         0,         0,         0,         0,         0,         0,         0,         0,         0,         0,         0,         0,     ..."
      ]
     },
     "execution_count": 7,
     "metadata": {},
     "output_type": "execute_result"
    }
   ],
   "source": [
    "val feature = batch.getFeatures().getRow(0)"
   ]
  },
  {
   "cell_type": "markdown",
   "metadata": {},
   "source": [
    "Get the features of this batch gives a batch of features. In [INDArray](https://deeplearning4j.org/docs/latest/nd4j-overview) view, it has a number of rows of `batchSize`, and we get the first row of it. \n",
    "\n",
    "In the form of an Array, it does not look lovely. Let's view it as an image."
   ]
  },
  {
   "cell_type": "code",
   "execution_count": 8,
   "metadata": {},
   "outputs": [
    {
     "data": {
      "text/html": [
       "<img src=\"data:image/jpeg;base64,/9j/4AAQSkZJRgABAgAAAQABAAD/2wBDAAgGBgcGBQgHBwcJCQgKDBQNDAsLDBkSEw8UHRofHh0aHBwgJC4nICIsIxwcKDcpLDAxNDQ0Hyc5PTgyPC4zNDL/wAALCAAcABwBAREA/8QAHwAAAQUBAQEBAQEAAAAAAAAAAAECAwQFBgcICQoL/8QAtRAAAgEDAwIEAwUFBAQAAAF9AQIDAAQRBRIhMUEGE1FhByJxFDKBkaEII0KxwRVS0fAkM2JyggkKFhcYGRolJicoKSo0NTY3ODk6Q0RFRkdISUpTVFVWV1hZWmNkZWZnaGlqc3R1dnd4eXqDhIWGh4iJipKTlJWWl5iZmqKjpKWmp6ipqrKztLW2t7i5usLDxMXGx8jJytLT1NXW19jZ2uHi4+Tl5ufo6erx8vP09fb3+Pn6/9oACAEBAAA/APn+uu034XeN9VJFt4bvkwN2blRbgj2MhXPWkvvh7qekTX8Oraho+nz2UAmeGe9UyOTkhFVcksRz6YI55rkqK9L8PeMtb8SeGdR8J3XiKeG+neKWwnubnYrlcBoDIeVDDBHONy4/i54vxPba5aeIbqDxGLn+1EIWZrhiztgAA7v4hgDB5yKyKtadpl9q94lnp1pNdXLnCxwoWJ/Lt716TY/Cm08P2Cat8RNWTSLV8+VYwMJLmYjtxkDt0z1521hfETxpYeKm0my0qwlttO0i2+y273DBpZEAUAtjpwo4ye571xNXdN1jU9GmebS9Ru7GV12s9rO0TMvXBKkZFV57ie6maW4mkmkY5LyMWJ79TUVFf//Z\"></img>"
      ]
     },
     "metadata": {},
     "output_type": "display_data"
    },
    {
     "data": {
      "text/plain": [
       "\u001b[36mres7\u001b[39m: \u001b[32malmond\u001b[39m.\u001b[32mapi\u001b[39m.\u001b[32mhelpers\u001b[39m.\u001b[32mDisplay\u001b[39m = text/html #f93ea8d8-7a49-431b-a37c-449aff460cfa"
      ]
     },
     "execution_count": 8,
     "metadata": {},
     "output_type": "execute_result"
    }
   ],
   "source": [
    "? viewFeature feature"
   ]
  },
  {
   "cell_type": "markdown",
   "metadata": {},
   "source": [
    "So this image is a hand written **5**. Let's do the same thing for its Label."
   ]
  },
  {
   "cell_type": "code",
   "execution_count": 9,
   "metadata": {},
   "outputs": [
    {
     "data": {
      "text/plain": [
       "\u001b[36mlabel\u001b[39m: \u001b[32morg\u001b[39m.\u001b[32mnd4j\u001b[39m.\u001b[32mlinalg\u001b[39m.\u001b[32mapi\u001b[39m.\u001b[32mndarray\u001b[39m.\u001b[32mINDArray\u001b[39m = [[         0,         0,         0,         0,         0,    1.0000,         0,         0,         0,         0]]"
      ]
     },
     "execution_count": 9,
     "metadata": {},
     "output_type": "execute_result"
    }
   ],
   "source": [
    "val label = batch.getLabels().getRow(0)"
   ]
  },
  {
   "cell_type": "code",
   "execution_count": 10,
   "metadata": {},
   "outputs": [
    {
     "data": {
      "text/html": [
       "<b>5</b>"
      ]
     },
     "metadata": {},
     "output_type": "display_data"
    },
    {
     "data": {
      "text/plain": [
       "\u001b[36mres9\u001b[39m: \u001b[32malmond\u001b[39m.\u001b[32mapi\u001b[39m.\u001b[32mhelpers\u001b[39m.\u001b[32mDisplay\u001b[39m = text/html #5028d846-2fc2-4549-8128-b08d5bb802c2"
      ]
     },
     "execution_count": 10,
     "metadata": {},
     "output_type": "execute_result"
    }
   ],
   "source": [
    "? viewLabel label"
   ]
  },
  {
   "cell_type": "markdown",
   "metadata": {},
   "source": [
    "Try another one from the other batch"
   ]
  },
  {
   "cell_type": "code",
   "execution_count": 11,
   "metadata": {},
   "outputs": [
    {
     "data": {
      "text/html": [
       "<img src=\"data:image/jpeg;base64,/9j/4AAQSkZJRgABAgAAAQABAAD/2wBDAAgGBgcGBQgHBwcJCQgKDBQNDAsLDBkSEw8UHRofHh0aHBwgJC4nICIsIxwcKDcpLDAxNDQ0Hyc5PTgyPC4zNDL/wAALCAAcABwBAREA/8QAHwAAAQUBAQEBAQEAAAAAAAAAAAECAwQFBgcICQoL/8QAtRAAAgEDAwIEAwUFBAQAAAF9AQIDAAQRBRIhMUEGE1FhByJxFDKBkaEII0KxwRVS0fAkM2JyggkKFhcYGRolJicoKSo0NTY3ODk6Q0RFRkdISUpTVFVWV1hZWmNkZWZnaGlqc3R1dnd4eXqDhIWGh4iJipKTlJWWl5iZmqKjpKWmp6ipqrKztLW2t7i5usLDxMXGx8jJytLT1NXW19jZ2uHi4+Tl5ufo6erx8vP09fb3+Pn6/9oACAEBAAA/APn+uq0bwDqmr+F7rxK01tZ6PbSLG9xcM3JLKpIVQSQNw7Vq658OtOtvB9x4l8PeKoNbs7WYRXS/ZTbtHnABAZiTyR2H44NcBRXpnw28E6X4v05o9W8YJYQC7CjSllCvK2BhwGOMnO0EKen4VX+IfiVbVJfA2j6V/ZGj6ddOJoyd0l3KpwJXYgHkAED3HXAx53XbeBLLwzrllqmg6zJDY6ndKr6dqUzlY4XXJZWOQAGAxz6+uK7LSPg5L4S8RadqfizxLollZQSfaFEd0RJI0ZDYUOgBGcZxk8+9ef8AxD8TQ+LvG+oaxbxeXbyMqQ5UBmRQFDN7nGfbp2rl6KKKK//Z\"></img>"
      ]
     },
     "metadata": {},
     "output_type": "display_data"
    },
    {
     "data": {
      "text/html": [
       "<b>3</b>"
      ]
     },
     "metadata": {},
     "output_type": "display_data"
    },
    {
     "data": {
      "text/plain": [
       "\u001b[36mres10\u001b[39m: \u001b[32malmond\u001b[39m.\u001b[32mapi\u001b[39m.\u001b[32mhelpers\u001b[39m.\u001b[32mDisplay\u001b[39m = text/html #9b4cf61f-5281-4578-ad43-b20d4fbf1a52"
      ]
     },
     "execution_count": 11,
     "metadata": {},
     "output_type": "execute_result"
    }
   ],
   "source": [
    "{{\n",
    "    val batch = trainSet.next()\n",
    "    ? viewFeature batch.getFeatures().getRow(127)\n",
    "    ? viewLabel batch.getLabels().getRow(127)\n",
    "}}"
   ]
  },
  {
   "cell_type": "markdown",
   "metadata": {},
   "source": [
    "Here we fixed the random seed and does not shuffle the DataSet to help reproducibility."
   ]
  }
 ],
 "metadata": {
  "kernelspec": {
   "display_name": "Scala 2.12.7",
   "language": "scala",
   "name": "scala"
  },
  "language_info": {
   "codemirror_mode": "text/x-scala",
   "file_extension": ".scala",
   "mimetype": "text/x-scala",
   "name": "scala",
   "nbconvert_exporter": "script",
   "version": "2.12.7"
  }
 },
 "nbformat": 4,
 "nbformat_minor": 2
}
