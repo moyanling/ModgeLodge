{
 "cells": [
  {
   "cell_type": "code",
   "execution_count": 1,
   "metadata": {},
   "outputs": [
    {
     "data": {
      "text/plain": [
       "\u001b[32mimport \u001b[39m\u001b[36m$ivy.$                                       \n",
       "\u001b[39m\n",
       "\u001b[32mimport \u001b[39m\u001b[36morg.mo39.fmbh.ModgeLodge._\u001b[39m"
      ]
     },
     "execution_count": 1,
     "metadata": {},
     "output_type": "execute_result"
    }
   ],
   "source": [
    "import $ivy.`org.mo39.fmbh::modgelodge:0.1-SNAPSHOT`\n",
    "import org.mo39.fmbh.ModgeLodge._"
   ]
  },
  {
   "cell_type": "code",
   "execution_count": 2,
   "metadata": {},
   "outputs": [
    {
     "data": {
      "text/html": [
       "<h1>Hello, World!</h1>"
      ]
     },
     "metadata": {},
     "output_type": "display_data"
    },
    {
     "data": {
      "text/plain": [
       "\u001b[36mres1\u001b[39m: \u001b[32malmond\u001b[39m.\u001b[32mapi\u001b[39m.\u001b[32mhelpers\u001b[39m.\u001b[32mDisplay\u001b[39m = text/html #09dc0e22-73d2-43a8-bc77-37ba59e72d04"
      ]
     },
     "execution_count": 2,
     "metadata": {},
     "output_type": "execute_result"
    }
   ],
   "source": [
    "Greetings()"
   ]
  },
  {
   "cell_type": "markdown",
   "metadata": {},
   "source": [
    "# Classification\n",
    "\n",
    "### Feature & Label & Model\n",
    "**Label** is the name of some category, the thing that you need to predict. \n",
    "\n",
    "**Feature** represents the characteristics of the target object. \n",
    "\n",
    "**Model** is the relationship between the Feature and the Label. If we train the DataSet and get the relationship between the Feature and the Label, then we can use the Model to predict the Label of an object according to its Feature.\n",
    "\n",
    "Basically, you have a list of images, you need to find a Model to tell, hey, this image <img src=\"https://www.readersdigest.ca/wp-content/uploads/sites/14/2011/01/4-ways-cheer-up-depressed-cat.jpg\" alt=\"drawing\" width=\"390\"/> has such a Feature, so we put Label **Cat** on it."
   ]
  }
 ],
 "metadata": {
  "kernelspec": {
   "display_name": "Scala 2.12.7",
   "language": "scala",
   "name": "scala"
  },
  "language_info": {
   "codemirror_mode": "text/x-scala",
   "file_extension": ".scala",
   "mimetype": "text/x-scala",
   "name": "scala",
   "nbconvert_exporter": "script",
   "version": "2.12.7"
  }
 },
 "nbformat": 4,
 "nbformat_minor": 2
}
